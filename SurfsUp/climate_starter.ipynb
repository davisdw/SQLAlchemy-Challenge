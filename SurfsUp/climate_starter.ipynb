{
 "cells": [
  {
   "cell_type": "code",
   "execution_count": 1,
   "metadata": {},
   "outputs": [],
   "source": [
    "%matplotlib inline\n",
    "from matplotlib import style\n",
    "style.use('fivethirtyeight')\n",
    "import matplotlib.pyplot as plt"
   ]
  },
  {
   "cell_type": "code",
   "execution_count": 2,
   "metadata": {},
   "outputs": [],
   "source": [
    "import numpy as np\n",
    "import pandas as pd\n",
    "import datetime as dt"
   ]
  },
  {
   "cell_type": "markdown",
   "metadata": {},
   "source": [
    "# Reflect Tables into SQLAlchemy ORM"
   ]
  },
  {
   "cell_type": "code",
   "execution_count": 3,
   "metadata": {},
   "outputs": [],
   "source": [
    "# Python SQL toolkit and Object Relational Mapper\n",
    "import sqlalchemy\n",
    "from sqlalchemy.ext.automap import automap_base\n",
    "from sqlalchemy.orm import Session\n",
    "from sqlalchemy import create_engine, func"
   ]
  },
  {
   "cell_type": "code",
   "execution_count": 7,
   "metadata": {},
   "outputs": [],
   "source": [
    "# create engine to hawaii.sqlite\n",
    "engine = create_engine(\"sqlite:///../Resources/hawaii.sqlite\")"
   ]
  },
  {
   "cell_type": "code",
   "execution_count": 8,
   "metadata": {},
   "outputs": [],
   "source": [
    "# reflect an existing database into a new model\n",
    "Base = automap_base()"
   ]
  },
  {
   "cell_type": "code",
   "execution_count": 9,
   "metadata": {},
   "outputs": [],
   "source": [
    "# reflect the tables\n",
    "Base.prepare(autoload_with=engine)"
   ]
  },
  {
   "cell_type": "code",
   "execution_count": 14,
   "metadata": {},
   "outputs": [
    {
     "data": {
      "text/plain": [
       "['station', 'measurement']"
      ]
     },
     "execution_count": 14,
     "metadata": {},
     "output_type": "execute_result"
    }
   ],
   "source": [
    "# View all of the classes that automap found\n",
    "Base.classes.keys()"
   ]
  },
  {
   "cell_type": "code",
   "execution_count": 15,
   "metadata": {},
   "outputs": [],
   "source": [
    "# Save references to each table\n",
    "Measurement = Base.classes.measurement\n",
    "Station = Base.classes.station"
   ]
  },
  {
   "cell_type": "code",
   "execution_count": 16,
   "metadata": {},
   "outputs": [],
   "source": [
    "# Create our session (link) from Python to the DB\n",
    "session = Session(engine)"
   ]
  },
  {
   "cell_type": "markdown",
   "metadata": {},
   "source": [
    "# Exploratory Precipitation Analysis"
   ]
  },
  {
   "cell_type": "code",
   "execution_count": 17,
   "metadata": {},
   "outputs": [
    {
     "data": {
      "text/plain": [
       "('2010-01-01',)"
      ]
     },
     "execution_count": 17,
     "metadata": {},
     "output_type": "execute_result"
    }
   ],
   "source": [
    "#find date from the earliest time\n",
    "session.query(Measurement.date).order_by(Measurement.date).first()"
   ]
  },
  {
   "cell_type": "code",
   "execution_count": 18,
   "metadata": {},
   "outputs": [],
   "source": [
    "###########################################################################################\n",
    "# Design a query to retrieve the last 12 months of precipitation data and plot the results. \n",
    "###########################################################################################"
   ]
  },
  {
   "cell_type": "code",
   "execution_count": 19,
   "metadata": {},
   "outputs": [
    {
     "data": {
      "text/plain": [
       "'2017-08-23'"
      ]
     },
     "execution_count": 19,
     "metadata": {},
     "output_type": "execute_result"
    }
   ],
   "source": [
    "# Starting from the most recent data point in the database. \n",
    "latest_date = session.query(Measurement.date).order_by(Measurement.date.desc()).first().date\n",
    "latest_date"
   ]
  },
  {
   "cell_type": "code",
   "execution_count": 20,
   "metadata": {},
   "outputs": [
    {
     "data": {
      "text/plain": [
       "datetime.datetime(2016, 8, 23, 0, 0)"
      ]
     },
     "execution_count": 20,
     "metadata": {},
     "output_type": "execute_result"
    }
   ],
   "source": [
    "# Calculate the date one year from the last date in data set.\n",
    "last_year = dt.datetime.strptime(latest_date, '%Y-%m-%d') - dt.timedelta(days=365)\n",
    "last_year"
   ]
  },
  {
   "cell_type": "code",
   "execution_count": 21,
   "metadata": {},
   "outputs": [
    {
     "data": {
      "text/plain": [
       "[('2016-08-24', 1.5549999999999997),\n",
       " ('2016-08-25', 0.07714285714285715),\n",
       " ('2016-08-26', 0.016666666666666666),\n",
       " ('2016-08-27', 0.06399999999999999),\n",
       " ('2016-08-28', 0.5166666666666666),\n",
       " ('2016-08-29', 0.24333333333333332),\n",
       " ('2016-08-30', 0.011666666666666667),\n",
       " ('2016-08-31', 0.6359999999999999),\n",
       " ('2016-09-01', 0.006),\n",
       " ('2016-09-02', 0.05),\n",
       " ('2016-09-03', 0.254),\n",
       " ('2016-09-04', 0.276),\n",
       " ('2016-09-05', 0.08499999999999999),\n",
       " ('2016-09-06', 0.246),\n",
       " ('2016-09-07', 0.3333333333333333),\n",
       " ('2016-09-08', 0.07666666666666667),\n",
       " ('2016-09-09', 0.17833333333333332),\n",
       " ('2016-09-10', 0.27999999999999997),\n",
       " ('2016-09-11', 0.25),\n",
       " ('2016-09-12', 0.308),\n",
       " ('2016-09-13', 0.45166666666666666),\n",
       " ('2016-09-14', 2.3800000000000003),\n",
       " ('2016-09-15', 0.8266666666666667),\n",
       " ('2016-09-16', 0.11714285714285715),\n",
       " ('2016-09-17', 0.13599999999999998),\n",
       " ('2016-09-18', 0.10600000000000001),\n",
       " ('2016-09-19', 0.064),\n",
       " ('2016-09-20', 0.14714285714285716),\n",
       " ('2016-09-21', 0.19499999999999998),\n",
       " ('2016-09-22', 0.2057142857142857),\n",
       " ('2016-09-23', 0.22428571428571428),\n",
       " ('2016-09-24', 0.04666666666666667),\n",
       " ('2016-09-25', 0.015),\n",
       " ('2016-09-26', 0.2783333333333333),\n",
       " ('2016-09-27', 0.22666666666666666),\n",
       " ('2016-09-28', 0.018571428571428572),\n",
       " ('2016-09-29', 0.42714285714285716),\n",
       " ('2016-09-30', 0.19166666666666665),\n",
       " ('2016-10-01', 0.2416666666666667),\n",
       " ('2016-10-02', 0.12),\n",
       " ('2016-10-03', 0.115),\n",
       " ('2016-10-04', 0.5816666666666667),\n",
       " ('2016-10-05', 0.1366666666666667),\n",
       " ('2016-10-06', 0.022857142857142857),\n",
       " ('2016-10-07', 0.0016666666666666668),\n",
       " ('2016-10-08', 0.008),\n",
       " ('2016-10-09', 0.0),\n",
       " ('2016-10-10', 0.0),\n",
       " ('2016-10-11', 0.11499999999999999),\n",
       " ('2016-10-12', 0.013333333333333334),\n",
       " ('2016-10-13', 0.013333333333333334),\n",
       " ('2016-10-14', 0.0),\n",
       " ('2016-10-15', 0.065),\n",
       " ('2016-10-16', 0.0),\n",
       " ('2016-10-17', 0.11000000000000001),\n",
       " ('2016-10-18', 0.09999999999999999),\n",
       " ('2016-10-19', 0.028333333333333332),\n",
       " ('2016-10-20', 0.202),\n",
       " ('2016-10-21', 0.064),\n",
       " ('2016-10-22', 0.354),\n",
       " ('2016-10-23', 0.055999999999999994),\n",
       " ('2016-10-24', 0.13166666666666665),\n",
       " ('2016-10-25', 0.15714285714285717),\n",
       " ('2016-10-26', 0.04833333333333334),\n",
       " ('2016-10-27', 0.31),\n",
       " ('2016-10-28', 0.09500000000000001),\n",
       " ('2016-10-29', 0.10666666666666667),\n",
       " ('2016-10-30', 0.26499999999999996),\n",
       " ('2016-10-31', 0.26833333333333337),\n",
       " ('2016-11-01', 0.035),\n",
       " ('2016-11-02', 0.006666666666666667),\n",
       " ('2016-11-03', 0.0033333333333333335),\n",
       " ('2016-11-04', 0.01),\n",
       " ('2016-11-05', 0.075),\n",
       " ('2016-11-06', 0.013333333333333334),\n",
       " ('2016-11-07', 0.03),\n",
       " ('2016-11-08', 0.18666666666666668),\n",
       " ('2016-11-09', 0.05714285714285714),\n",
       " ('2016-11-10', 0.0016666666666666668),\n",
       " ('2016-11-11', 0.0),\n",
       " ('2016-11-12', 0.0),\n",
       " ('2016-11-13', 0.0),\n",
       " ('2016-11-14', 0.02142857142857143),\n",
       " ('2016-11-15', 0.008333333333333333),\n",
       " ('2016-11-16', 0.25666666666666665),\n",
       " ('2016-11-17', 0.01),\n",
       " ('2016-11-18', 0.0075),\n",
       " ('2016-11-19', 0.095),\n",
       " ('2016-11-20', 0.23750000000000002),\n",
       " ('2016-11-21', 0.616),\n",
       " ('2016-11-22', 1.002),\n",
       " ('2016-11-23', 0.134),\n",
       " ('2016-11-24', 0.296),\n",
       " ('2016-11-25', 0.264),\n",
       " ('2016-11-26', 0.085),\n",
       " ('2016-11-27', 0.09166666666666667),\n",
       " ('2016-11-28', 0.12),\n",
       " ('2016-11-29', 0.07166666666666667),\n",
       " ('2016-11-30', 0.17666666666666667),\n",
       " ('2016-12-01', 0.295),\n",
       " ('2016-12-02', 0.3933333333333333),\n",
       " ('2016-12-03', 0.45166666666666666),\n",
       " ('2016-12-04', 0.13333333333333333),\n",
       " ('2016-12-05', 0.54),\n",
       " ('2016-12-06', 0.008),\n",
       " ('2016-12-07', 0.076),\n",
       " ('2016-12-08', 0.06571428571428573),\n",
       " ('2016-12-09', 0.37),\n",
       " ('2016-12-10', 0.026000000000000002),\n",
       " ('2016-12-11', 0.05),\n",
       " ('2016-12-12', 0.008333333333333333),\n",
       " ('2016-12-13', 0.12833333333333333),\n",
       " ('2016-12-14', 0.25),\n",
       " ('2016-12-15', 0.043333333333333335),\n",
       " ('2016-12-16', 0.006666666666666667),\n",
       " ('2016-12-17', 0.07),\n",
       " ('2016-12-18', 0.178),\n",
       " ('2016-12-19', 0.07),\n",
       " ('2016-12-20', 0.005),\n",
       " ('2016-12-21', 0.1285714285714286),\n",
       " ('2016-12-22', 0.4116666666666666),\n",
       " ('2016-12-23', 0.205),\n",
       " ('2016-12-24', 0.27),\n",
       " ('2016-12-25', 0.086),\n",
       " ('2016-12-26', 0.40800000000000003),\n",
       " ('2016-12-27', 0.04),\n",
       " ('2016-12-28', 0.06833333333333334),\n",
       " ('2016-12-29', 0.39666666666666667),\n",
       " ('2016-12-30', 0.5583333333333333),\n",
       " ('2016-12-31', 0.42800000000000005),\n",
       " ('2017-01-01', 0.06999999999999999),\n",
       " ('2017-01-02', 0.004),\n",
       " ('2017-01-03', 0.0),\n",
       " ('2017-01-04', 0.03),\n",
       " ('2017-01-05', 0.15833333333333333),\n",
       " ('2017-01-06', 0.13333333333333333),\n",
       " ('2017-01-07', 0.01),\n",
       " ('2017-01-08', 0.01),\n",
       " ('2017-01-09', 0.0),\n",
       " ('2017-01-10', 0.0),\n",
       " ('2017-01-11', 0.0),\n",
       " ('2017-01-12', 0.0),\n",
       " ('2017-01-13', 0.0),\n",
       " ('2017-01-14', 0.002),\n",
       " ('2017-01-15', 0.0025),\n",
       " ('2017-01-16', 0.0),\n",
       " ('2017-01-17', 0.0),\n",
       " ('2017-01-18', 0.011666666666666667),\n",
       " ('2017-01-19', 0.0033333333333333335),\n",
       " ('2017-01-20', 0.0),\n",
       " ('2017-01-21', 0.04666666666666666),\n",
       " ('2017-01-22', 0.20400000000000001),\n",
       " ('2017-01-23', 0.188),\n",
       " ('2017-01-24', 0.45),\n",
       " ('2017-01-25', 0.716),\n",
       " ('2017-01-26', 0.015714285714285715),\n",
       " ('2017-01-27', 0.008571428571428572),\n",
       " ('2017-01-28', 0.028000000000000004),\n",
       " ('2017-01-29', 0.2475),\n",
       " ('2017-01-30', 0.008333333333333333),\n",
       " ('2017-01-31', 0.0),\n",
       " ('2017-02-01', 0.0),\n",
       " ('2017-02-02', 0.0),\n",
       " ('2017-02-03', 0.0),\n",
       " ('2017-02-04', 0.0),\n",
       " ('2017-02-05', 0.0),\n",
       " ('2017-02-06', 0.06333333333333334),\n",
       " ('2017-02-07', 1.0571428571428572),\n",
       " ('2017-02-08', 0.1542857142857143),\n",
       " ('2017-02-09', 0.002857142857142857),\n",
       " ('2017-02-10', 0.0),\n",
       " ('2017-02-11', 1.866666666666667),\n",
       " ('2017-02-12', 1.7466666666666668),\n",
       " ('2017-02-13', 0.4866666666666666),\n",
       " ('2017-02-14', 0.0016666666666666668),\n",
       " ('2017-02-15', 0.016),\n",
       " ('2017-02-16', 0.36999999999999994),\n",
       " ('2017-02-17', 0.17500000000000004),\n",
       " ('2017-02-18', 0.0025),\n",
       " ('2017-02-19', 0.0475),\n",
       " ('2017-02-20', 0.0),\n",
       " ('2017-02-21', 0.026000000000000002),\n",
       " ('2017-02-22', 0.13000000000000003),\n",
       " ('2017-02-23', 0.0014285714285714286),\n",
       " ('2017-02-24', 0.0),\n",
       " ('2017-02-25', 0.0375),\n",
       " ('2017-02-26', 0.0),\n",
       " ('2017-02-27', 0.0),\n",
       " ('2017-02-28', 0.13666666666666666),\n",
       " ('2017-03-01', 1.6600000000000001),\n",
       " ('2017-03-02', 1.0933333333333333),\n",
       " ('2017-03-03', 0.37166666666666665),\n",
       " ('2017-03-04', 0.0),\n",
       " ('2017-03-05', 0.3025),\n",
       " ('2017-03-06', 0.135),\n",
       " ('2017-03-07', 0.0),\n",
       " ('2017-03-08', 0.0),\n",
       " ('2017-03-09', 0.3266666666666667),\n",
       " ('2017-03-10', 0.04142857142857143),\n",
       " ('2017-03-11', 0.008),\n",
       " ('2017-03-12', 0.0),\n",
       " ('2017-03-13', 0.0),\n",
       " ('2017-03-14', 0.008571428571428572),\n",
       " ('2017-03-15', 0.01),\n",
       " ('2017-03-16', 0.0),\n",
       " ('2017-03-17', 0.144),\n",
       " ('2017-03-18', 0.0),\n",
       " ('2017-03-19', 0.0),\n",
       " ('2017-03-20', 0.004),\n",
       " ('2017-03-21', 0.015),\n",
       " ('2017-03-22', 0.0),\n",
       " ('2017-03-23', 0.008333333333333333),\n",
       " ('2017-03-24', 0.18833333333333335),\n",
       " ('2017-03-25', 0.394),\n",
       " ('2017-03-26', 0.0),\n",
       " ('2017-03-27', 0.002),\n",
       " ('2017-03-28', 0.11833333333333335),\n",
       " ('2017-03-29', 0.03166666666666667),\n",
       " ('2017-03-30', 0.03),\n",
       " ('2017-03-31', 0.0016666666666666668),\n",
       " ('2017-04-01', 0.06833333333333334),\n",
       " ('2017-04-02', 0.0),\n",
       " ('2017-04-03', 0.11),\n",
       " ('2017-04-04', 0.02142857142857143),\n",
       " ('2017-04-05', 0.09428571428571429),\n",
       " ('2017-04-06', 0.008571428571428572),\n",
       " ('2017-04-07', 0.0),\n",
       " ('2017-04-08', 0.0),\n",
       " ('2017-04-09', 0.0),\n",
       " ('2017-04-10', 0.0033333333333333335),\n",
       " ('2017-04-11', 0.07833333333333332),\n",
       " ('2017-04-12', 0.18000000000000002),\n",
       " ('2017-04-13', 0.18166666666666667),\n",
       " ('2017-04-14', 1.1199999999999999),\n",
       " ('2017-04-15', 0.34800000000000003),\n",
       " ('2017-04-16', 0.21400000000000002),\n",
       " ('2017-04-17', 0.6140000000000001),\n",
       " ('2017-04-18', 0.48),\n",
       " ('2017-04-19', 0.03333333333333333),\n",
       " ('2017-04-20', 0.13),\n",
       " ('2017-04-21', 1.3966666666666667),\n",
       " ('2017-04-22', 0.9920000000000002),\n",
       " ('2017-04-23', 0.11499999999999999),\n",
       " ('2017-04-24', 0.015000000000000001),\n",
       " ('2017-04-25', 0.0),\n",
       " ('2017-04-26', 0.065),\n",
       " ('2017-04-27', 0.06999999999999999),\n",
       " ('2017-04-28', 0.7066666666666667),\n",
       " ('2017-04-29', 1.3399999999999999),\n",
       " ('2017-04-30', 1.07),\n",
       " ('2017-05-01', 0.135),\n",
       " ('2017-05-02', 0.008333333333333333),\n",
       " ('2017-05-03', 0.006),\n",
       " ('2017-05-04', 0.016),\n",
       " ('2017-05-05', 0.06333333333333334),\n",
       " ('2017-05-06', 0.01),\n",
       " ('2017-05-07', 0.024),\n",
       " ('2017-05-08', 0.5016666666666666),\n",
       " ('2017-05-09', 0.9260000000000002),\n",
       " ('2017-05-10', 0.14333333333333334),\n",
       " ('2017-05-11', 0.12),\n",
       " ('2017-05-12', 0.032),\n",
       " ('2017-05-13', 0.048),\n",
       " ('2017-05-14', 0.244),\n",
       " ('2017-05-15', 0.176),\n",
       " ('2017-05-16', 0.06999999999999999),\n",
       " ('2017-05-17', 0.025000000000000005),\n",
       " ('2017-05-18', 0.14166666666666666),\n",
       " ('2017-05-19', 0.01),\n",
       " ('2017-05-20', 0.0075),\n",
       " ('2017-05-21', 0.002),\n",
       " ('2017-05-22', 0.072),\n",
       " ('2017-05-23', 0.11833333333333333),\n",
       " ('2017-05-24', 0.6483333333333333),\n",
       " ('2017-05-25', 0.37000000000000005),\n",
       " ('2017-05-26', 0.004),\n",
       " ('2017-05-27', 0.085),\n",
       " ('2017-05-28', 0.06833333333333334),\n",
       " ('2017-05-29', 0.084),\n",
       " ('2017-05-30', 0.346),\n",
       " ('2017-05-31', 0.074),\n",
       " ('2017-06-01', 0.006666666666666667),\n",
       " ('2017-06-02', 0.06799999999999999),\n",
       " ('2017-06-03', 0.122),\n",
       " ('2017-06-04', 0.19166666666666665),\n",
       " ('2017-06-05', 0.013333333333333334),\n",
       " ('2017-06-06', 0.0),\n",
       " ('2017-06-07', 0.0016666666666666668),\n",
       " ('2017-06-08', 0.005),\n",
       " ('2017-06-09', 0.008),\n",
       " ('2017-06-10', 0.306),\n",
       " ('2017-06-11', 0.35833333333333334),\n",
       " ('2017-06-12', 0.2916666666666667),\n",
       " ('2017-06-13', 0.22999999999999998),\n",
       " ('2017-06-14', 0.26166666666666666),\n",
       " ('2017-06-15', 0.45166666666666666),\n",
       " ('2017-06-16', 0.03333333333333333),\n",
       " ('2017-06-17', 0.09000000000000001),\n",
       " ('2017-06-18', 0.23666666666666666),\n",
       " ('2017-06-19', 0.12166666666666666),\n",
       " ('2017-06-20', 0.11000000000000001),\n",
       " ('2017-06-21', 0.1275),\n",
       " ('2017-06-22', 0.07333333333333335),\n",
       " ('2017-06-23', 0.11166666666666665),\n",
       " ('2017-06-24', 0.128),\n",
       " ('2017-06-25', 0.12),\n",
       " ('2017-06-26', 0.02),\n",
       " ('2017-06-27', 0.018333333333333333),\n",
       " ('2017-06-28', 0.005),\n",
       " ('2017-06-29', 0.011666666666666667),\n",
       " ('2017-06-30', 0.07428571428571429),\n",
       " ('2017-07-01', 0.065),\n",
       " ('2017-07-02', 0.18),\n",
       " ('2017-07-03', 0.148),\n",
       " ('2017-07-04', 0.037500000000000006),\n",
       " ('2017-07-05', 0.0),\n",
       " ('2017-07-06', 0.004),\n",
       " ('2017-07-07', 0.1),\n",
       " ('2017-07-08', 0.016666666666666666),\n",
       " ('2017-07-09', 0.03333333333333333),\n",
       " ('2017-07-10', 0.006666666666666667),\n",
       " ('2017-07-11', 0.005),\n",
       " ('2017-07-12', 0.060000000000000005),\n",
       " ('2017-07-13', 0.3016666666666667),\n",
       " ('2017-07-14', 0.15833333333333335),\n",
       " ('2017-07-15', 0.03166666666666667),\n",
       " ('2017-07-16', 0.135),\n",
       " ('2017-07-17', 0.15166666666666667),\n",
       " ('2017-07-18', 0.3614285714285714),\n",
       " ('2017-07-19', 0.06833333333333334),\n",
       " ('2017-07-20', 0.17714285714285713),\n",
       " ('2017-07-21', 0.018571428571428572),\n",
       " ('2017-07-22', 0.7366666666666667),\n",
       " ('2017-07-23', 0.22600000000000003),\n",
       " ('2017-07-24', 0.6539999999999999),\n",
       " ('2017-07-25', 0.08714285714285715),\n",
       " ('2017-07-26', 0.08333333333333333),\n",
       " ('2017-07-27', 0.0016666666666666668),\n",
       " ('2017-07-28', 0.11),\n",
       " ('2017-07-29', 0.10166666666666667),\n",
       " ('2017-07-30', 0.06),\n",
       " ('2017-07-31', 0.0),\n",
       " ('2017-08-01', 0.04666666666666666),\n",
       " ('2017-08-02', 0.075),\n",
       " ('2017-08-03', 0.017499999999999998),\n",
       " ('2017-08-04', 0.015),\n",
       " ('2017-08-05', 0.03),\n",
       " ('2017-08-06', 0.0),\n",
       " ('2017-08-07', 0.0125),\n",
       " ('2017-08-08', 0.11000000000000001),\n",
       " ('2017-08-09', 0.049999999999999996),\n",
       " ('2017-08-10', 0.0175),\n",
       " ('2017-08-11', 0.0),\n",
       " ('2017-08-12', 0.04666666666666667),\n",
       " ('2017-08-13', 0.0),\n",
       " ('2017-08-14', 0.062),\n",
       " ('2017-08-15', 0.164),\n",
       " ('2017-08-16', 0.1525),\n",
       " ('2017-08-17', 0.0475),\n",
       " ('2017-08-18', 0.02),\n",
       " ('2017-08-19', 0.03),\n",
       " ('2017-08-20', 0.005),\n",
       " ('2017-08-21', 0.19333333333333336),\n",
       " ('2017-08-22', 0.16666666666666666),\n",
       " ('2017-08-23', 0.1325)]"
      ]
     },
     "execution_count": 21,
     "metadata": {},
     "output_type": "execute_result"
    }
   ],
   "source": [
    "# Perform a query to retrieve the data and precipitation scores\n",
    "prcp_scores_query = session.query(Measurement.date, func.avg(Measurement.prcp)).\\\n",
    "    filter(Measurement.date >= last_year).\\\n",
    "        group_by(Measurement.date).all()\n",
    "\n",
    "prcp_scores_query"
   ]
  },
  {
   "cell_type": "code",
   "execution_count": 22,
   "metadata": {},
   "outputs": [
    {
     "data": {
      "text/html": [
       "<div>\n",
       "<style scoped>\n",
       "    .dataframe tbody tr th:only-of-type {\n",
       "        vertical-align: middle;\n",
       "    }\n",
       "\n",
       "    .dataframe tbody tr th {\n",
       "        vertical-align: top;\n",
       "    }\n",
       "\n",
       "    .dataframe thead th {\n",
       "        text-align: right;\n",
       "    }\n",
       "</style>\n",
       "<table border=\"1\" class=\"dataframe\">\n",
       "  <thead>\n",
       "    <tr style=\"text-align: right;\">\n",
       "      <th></th>\n",
       "      <th>date</th>\n",
       "      <th>precipitation</th>\n",
       "    </tr>\n",
       "  </thead>\n",
       "  <tbody>\n",
       "    <tr>\n",
       "      <th>0</th>\n",
       "      <td>2016-08-24</td>\n",
       "      <td>1.555000</td>\n",
       "    </tr>\n",
       "    <tr>\n",
       "      <th>1</th>\n",
       "      <td>2016-08-25</td>\n",
       "      <td>0.077143</td>\n",
       "    </tr>\n",
       "    <tr>\n",
       "      <th>2</th>\n",
       "      <td>2016-08-26</td>\n",
       "      <td>0.016667</td>\n",
       "    </tr>\n",
       "    <tr>\n",
       "      <th>3</th>\n",
       "      <td>2016-08-27</td>\n",
       "      <td>0.064000</td>\n",
       "    </tr>\n",
       "    <tr>\n",
       "      <th>4</th>\n",
       "      <td>2016-08-28</td>\n",
       "      <td>0.516667</td>\n",
       "    </tr>\n",
       "  </tbody>\n",
       "</table>\n",
       "</div>"
      ],
      "text/plain": [
       "         date  precipitation\n",
       "0  2016-08-24       1.555000\n",
       "1  2016-08-25       0.077143\n",
       "2  2016-08-26       0.016667\n",
       "3  2016-08-27       0.064000\n",
       "4  2016-08-28       0.516667"
      ]
     },
     "execution_count": 22,
     "metadata": {},
     "output_type": "execute_result"
    }
   ],
   "source": [
    "# Save the query results as a Pandas DataFrame. Explicitly set the column names\n",
    "prcp_df = pd.DataFrame(prcp_scores_query, columns=['date', 'precipitation'])\n",
    "#prcp_df.set_index('date', inplace=True)\n",
    "prcp_df.head()"
   ]
  },
  {
   "cell_type": "code",
   "execution_count": 23,
   "metadata": {},
   "outputs": [
    {
     "data": {
      "text/html": [
       "<div>\n",
       "<style scoped>\n",
       "    .dataframe tbody tr th:only-of-type {\n",
       "        vertical-align: middle;\n",
       "    }\n",
       "\n",
       "    .dataframe tbody tr th {\n",
       "        vertical-align: top;\n",
       "    }\n",
       "\n",
       "    .dataframe thead th {\n",
       "        text-align: right;\n",
       "    }\n",
       "</style>\n",
       "<table border=\"1\" class=\"dataframe\">\n",
       "  <thead>\n",
       "    <tr style=\"text-align: right;\">\n",
       "      <th></th>\n",
       "      <th>date</th>\n",
       "      <th>precipitation</th>\n",
       "    </tr>\n",
       "  </thead>\n",
       "  <tbody>\n",
       "    <tr>\n",
       "      <th>0</th>\n",
       "      <td>2016-08-24</td>\n",
       "      <td>1.555000</td>\n",
       "    </tr>\n",
       "    <tr>\n",
       "      <th>1</th>\n",
       "      <td>2016-08-25</td>\n",
       "      <td>0.077143</td>\n",
       "    </tr>\n",
       "    <tr>\n",
       "      <th>2</th>\n",
       "      <td>2016-08-26</td>\n",
       "      <td>0.016667</td>\n",
       "    </tr>\n",
       "    <tr>\n",
       "      <th>3</th>\n",
       "      <td>2016-08-27</td>\n",
       "      <td>0.064000</td>\n",
       "    </tr>\n",
       "    <tr>\n",
       "      <th>4</th>\n",
       "      <td>2016-08-28</td>\n",
       "      <td>0.516667</td>\n",
       "    </tr>\n",
       "  </tbody>\n",
       "</table>\n",
       "</div>"
      ],
      "text/plain": [
       "         date  precipitation\n",
       "0  2016-08-24       1.555000\n",
       "1  2016-08-25       0.077143\n",
       "2  2016-08-26       0.016667\n",
       "3  2016-08-27       0.064000\n",
       "4  2016-08-28       0.516667"
      ]
     },
     "execution_count": 23,
     "metadata": {},
     "output_type": "execute_result"
    }
   ],
   "source": [
    "# Sort the dataframe by date\n",
    "prcp_df.sort_values(by='date')\n",
    "prcp_df.head()"
   ]
  },
  {
   "cell_type": "code",
   "execution_count": 25,
   "metadata": {},
   "outputs": [
    {
     "data": {
      "image/png": "[encoded data removed]",
      "text/plain": [
       "<Figure size 800x600 with 1 Axes>"
      ]
     },
     "metadata": {},
     "output_type": "display_data"
    }
   ],
   "source": [
    "# Use Pandas Plotting with Matplotlib to plot the data\n",
    "    #Creating Function to store the plt configurations\n",
    "\n",
    "plot = prcp_df.plot(kind='bar', width=4, figsize=(8,6))\n",
    "plt.locator_params(axis='x', nbins=9)\n",
    "plot.xaxis.set_major_formatter(plt.NullFormatter())\n",
    "plot.tick_params(axis='y', labelsize=10)\n",
    "plot.grid(True)\n",
    "plt.legend(bbox_to_anchor=(.3,1), fontsize=\"12\")\n",
    "plt.title(\"Precipitation Last 12 Months\", size=16)\n",
    "plt.ylabel(\"Precipitation (Inches)\", size=18)\n",
    "plt.xlabel(\"Date\", size=16)\n",
    "plt.savefig(\"../Plot_Output/prcp_plot.png\")\n",
    "plt.show()"
   ]
  },
  {
   "cell_type": "code",
   "execution_count": 26,
   "metadata": {},
   "outputs": [
    {
     "data": {
      "text/html": [
       "<div>\n",
       "<style scoped>\n",
       "    .dataframe tbody tr th:only-of-type {\n",
       "        vertical-align: middle;\n",
       "    }\n",
       "\n",
       "    .dataframe tbody tr th {\n",
       "        vertical-align: top;\n",
       "    }\n",
       "\n",
       "    .dataframe thead th {\n",
       "        text-align: right;\n",
       "    }\n",
       "</style>\n",
       "<table border=\"1\" class=\"dataframe\">\n",
       "  <thead>\n",
       "    <tr style=\"text-align: right;\">\n",
       "      <th></th>\n",
       "      <th>precipitation</th>\n",
       "    </tr>\n",
       "  </thead>\n",
       "  <tbody>\n",
       "    <tr>\n",
       "      <th>count</th>\n",
       "      <td>365.000000</td>\n",
       "    </tr>\n",
       "    <tr>\n",
       "      <th>mean</th>\n",
       "      <td>0.169987</td>\n",
       "    </tr>\n",
       "    <tr>\n",
       "      <th>std</th>\n",
       "      <td>0.295722</td>\n",
       "    </tr>\n",
       "    <tr>\n",
       "      <th>min</th>\n",
       "      <td>0.000000</td>\n",
       "    </tr>\n",
       "    <tr>\n",
       "      <th>25%</th>\n",
       "      <td>0.008571</td>\n",
       "    </tr>\n",
       "    <tr>\n",
       "      <th>50%</th>\n",
       "      <td>0.070000</td>\n",
       "    </tr>\n",
       "    <tr>\n",
       "      <th>75%</th>\n",
       "      <td>0.191667</td>\n",
       "    </tr>\n",
       "    <tr>\n",
       "      <th>max</th>\n",
       "      <td>2.380000</td>\n",
       "    </tr>\n",
       "  </tbody>\n",
       "</table>\n",
       "</div>"
      ],
      "text/plain": [
       "       precipitation\n",
       "count     365.000000\n",
       "mean        0.169987\n",
       "std         0.295722\n",
       "min         0.000000\n",
       "25%         0.008571\n",
       "50%         0.070000\n",
       "75%         0.191667\n",
       "max         2.380000"
      ]
     },
     "execution_count": 26,
     "metadata": {},
     "output_type": "execute_result"
    }
   ],
   "source": [
    "# Use Pandas to calculate the summary statistics for the precipitation data\n",
    "prcp_df.describe()"
   ]
  },
  {
   "cell_type": "markdown",
   "metadata": {},
   "source": [
    "# Exploratory Station Analysis"
   ]
  },
  {
   "cell_type": "code",
   "execution_count": 27,
   "metadata": {},
   "outputs": [
    {
     "data": {
      "text/plain": [
       "9"
      ]
     },
     "execution_count": 27,
     "metadata": {},
     "output_type": "execute_result"
    }
   ],
   "source": [
    "# Design a query to calculate the total number of stations in the dataset\n",
    "session.query(Station.id).count()"
   ]
  },
  {
   "cell_type": "code",
   "execution_count": 28,
   "metadata": {},
   "outputs": [
    {
     "data": {
      "text/plain": [
       "[('USC00519281', 2772),\n",
       " ('USC00519397', 2724),\n",
       " ('USC00513117', 2709),\n",
       " ('USC00519523', 2669),\n",
       " ('USC00516128', 2612),\n",
       " ('USC00514830', 2202),\n",
       " ('USC00511918', 1979),\n",
       " ('USC00517948', 1372),\n",
       " ('USC00518838', 511)]"
      ]
     },
     "execution_count": 28,
     "metadata": {},
     "output_type": "execute_result"
    }
   ],
   "source": [
    "# Design a query to find the most active stations (i.e. which stations have the most rows?)\n",
    "# List the stations and their counts in descending order.\n",
    "active_station = session.query(Measurement.station, func.count(Measurement.station)).\\\n",
    "    group_by(Measurement.station).\\\n",
    "    order_by(func.count(Measurement.station).desc()).all()\n",
    "active_station\n"
   ]
  },
  {
   "cell_type": "code",
   "execution_count": 29,
   "metadata": {},
   "outputs": [
    {
     "data": {
      "text/plain": [
       "[(54.0, 85.0, 71.66378066378067)]"
      ]
     },
     "execution_count": 29,
     "metadata": {},
     "output_type": "execute_result"
    }
   ],
   "source": [
    "# Using the most active station id from the previous query, calculate the lowest, highest, and average temperature.\n",
    "most_active_station = active_station[0][0]  #placing the station ID and the count in both lists \n",
    "session.query(func.min(Measurement.tobs), func.max(Measurement.tobs),func.avg(Measurement.tobs)).\\\n",
    "    filter(Measurement.station == most_active_station).all()"
   ]
  },
  {
   "cell_type": "code",
   "execution_count": 30,
   "metadata": {},
   "outputs": [
    {
     "data": {
      "text/html": [
       "<div>\n",
       "<style scoped>\n",
       "    .dataframe tbody tr th:only-of-type {\n",
       "        vertical-align: middle;\n",
       "    }\n",
       "\n",
       "    .dataframe tbody tr th {\n",
       "        vertical-align: top;\n",
       "    }\n",
       "\n",
       "    .dataframe thead th {\n",
       "        text-align: right;\n",
       "    }\n",
       "</style>\n",
       "<table border=\"1\" class=\"dataframe\">\n",
       "  <thead>\n",
       "    <tr style=\"text-align: right;\">\n",
       "      <th></th>\n",
       "      <th>station</th>\n",
       "      <th>tobs</th>\n",
       "    </tr>\n",
       "  </thead>\n",
       "  <tbody>\n",
       "    <tr>\n",
       "      <th>0</th>\n",
       "      <td>USC00519281</td>\n",
       "      <td>77.0</td>\n",
       "    </tr>\n",
       "    <tr>\n",
       "      <th>1</th>\n",
       "      <td>USC00519281</td>\n",
       "      <td>80.0</td>\n",
       "    </tr>\n",
       "    <tr>\n",
       "      <th>2</th>\n",
       "      <td>USC00519281</td>\n",
       "      <td>80.0</td>\n",
       "    </tr>\n",
       "    <tr>\n",
       "      <th>3</th>\n",
       "      <td>USC00519281</td>\n",
       "      <td>75.0</td>\n",
       "    </tr>\n",
       "    <tr>\n",
       "      <th>4</th>\n",
       "      <td>USC00519281</td>\n",
       "      <td>73.0</td>\n",
       "    </tr>\n",
       "  </tbody>\n",
       "</table>\n",
       "</div>"
      ],
      "text/plain": [
       "       station  tobs\n",
       "0  USC00519281  77.0\n",
       "1  USC00519281  80.0\n",
       "2  USC00519281  80.0\n",
       "3  USC00519281  75.0\n",
       "4  USC00519281  73.0"
      ]
     },
     "execution_count": 30,
     "metadata": {},
     "output_type": "execute_result"
    }
   ],
   "source": [
    "# Using the most active station id\n",
    "# Query the last 12 months of temperature observation data for this station USC00519281\n",
    "\n",
    "temp_result = session.query(Measurement.station, Measurement.tobs).\\\n",
    "    filter(Measurement.station == most_active_station).\\\n",
    "    filter(Measurement.date >= last_year )\n",
    "temp_result_df = pd.DataFrame(temp_result)\n",
    "#temp_result_df.set_index('station', inplace=True)\n",
    "temp_result_df.head()"
   ]
  },
  {
   "cell_type": "code",
   "execution_count": 32,
   "metadata": {},
   "outputs": [
    {
     "data": {
      "image/png": "[encoded data removed]",
      "text/plain": [
       "<Figure size 1200x800 with 1 Axes>"
      ]
     },
     "metadata": {},
     "output_type": "display_data"
    }
   ],
   "source": [
    "#plot the station USC00519281 results as a histogram\n",
    "temp_result_df.plot.hist(by='station', bins=12, figsize=(12,8))\n",
    "plt.grid(True)\n",
    "plt.title(f'Temp Observation for Station: {most_active_station}',fontsize=20)\n",
    "plt.xlabel(\"Temperature Recorded\", fontsize=16)\n",
    "plt.ylabel(\"Frequency (number of temp occurence)\")\n",
    "plt.legend(bbox_to_anchor=(1,1), fontsize=16)\n",
    "plt.savefig(\"../Plot_Output/temp_plot.png\")\n",
    "plt.show()\n"
   ]
  },
  {
   "cell_type": "markdown",
   "metadata": {},
   "source": [
    "# Close Session"
   ]
  },
  {
   "cell_type": "code",
   "execution_count": 33,
   "metadata": {},
   "outputs": [],
   "source": [
    "# Close Session\n",
    "session.close()"
   ]
  },
  {
   "cell_type": "code",
   "execution_count": null,
   "metadata": {},
   "outputs": [],
   "source": []
  }
 ],
 "metadata": {
  "anaconda-cloud": {},
  "kernel_info": {
   "name": "python3"
  },
  "kernelspec": {
   "display_name": "Python 3 (ipykernel)",
   "language": "python",
   "name": "python3"
  },
  "language_info": {
   "codemirror_mode": {
    "name": "ipython",
    "version": 3
   },
   "file_extension": ".py",
   "mimetype": "text/x-python",
   "name": "python",
   "nbconvert_exporter": "python",
   "pygments_lexer": "ipython3",
   "version": "3.10.13"
  },
  "nteract": {
   "version": "0.12.3"
  },
  "varInspector": {
   "cols": {
    "lenName": 16,
    "lenType": 16,
    "lenVar": 40
   },
   "kernels_config": {
    "python": {
     "delete_cmd_postfix": "",
     "delete_cmd_prefix": "del ",
     "library": "var_list.py",
     "varRefreshCmd": "print(var_dic_list())"
    },
    "r": {
     "delete_cmd_postfix": ") ",
     "delete_cmd_prefix": "rm(",
     "library": "var_list.r",
     "varRefreshCmd": "cat(var_dic_list()) "
    }
   },
   "types_to_exclude": [
    "module",
    "function",
    "builtin_function_or_method",
    "instance",
    "_Feature"
   ],
   "window_display": false
  }
 },
 "nbformat": 4,
 "nbformat_minor": 2
}
